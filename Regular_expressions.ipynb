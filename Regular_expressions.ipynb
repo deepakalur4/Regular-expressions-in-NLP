{
 "cells": [
  {
   "cell_type": "code",
   "execution_count": 1,
   "metadata": {},
   "outputs": [],
   "source": [
    "import re"
   ]
  },
  {
   "cell_type": "code",
   "execution_count": 44,
   "metadata": {},
   "outputs": [],
   "source": [
    "chat1 = ' you ask lot of questions 😠  1235678912, abc@xyz.com'\n",
    "chat2 = ' here it is: (123)-567-8912, abc@xyz.com'\n",
    "chat3 = ' yes, phone: 1235678912 email: abc@xyz.com'"
   ]
  },
  {
   "cell_type": "code",
   "execution_count": 45,
   "metadata": {},
   "outputs": [
    {
     "name": "stdout",
     "output_type": "stream",
     "text": [
      "['123567891']\n"
     ]
    }
   ],
   "source": [
    "pattern=r\"\\d{9}\"\n",
    "matches=re.findall(pattern,chat1)\n",
    "print(matches)"
   ]
  },
  {
   "cell_type": "code",
   "execution_count": 46,
   "metadata": {},
   "outputs": [
    {
     "name": "stdout",
     "output_type": "stream",
     "text": [
      "[]\n"
     ]
    }
   ],
   "source": [
    "matches=re.findall(pattern,chat2)\n",
    "print(matches)"
   ]
  },
  {
   "cell_type": "code",
   "execution_count": 47,
   "metadata": {},
   "outputs": [
    {
     "name": "stdout",
     "output_type": "stream",
     "text": [
      "['123567891']\n"
     ]
    }
   ],
   "source": [
    "matches=re.findall(pattern,chat3)\n",
    "print(matches)"
   ]
  },
  {
   "cell_type": "code",
   "execution_count": 52,
   "metadata": {},
   "outputs": [],
   "source": [
    "pattern2=r\"\\(\\d{3}\\)-\\d{3}-\\d{4}|\\d{10}\"\n",
    "chat2 = ' here it is: (123)-567-8912, abc@xyz.com'"
   ]
  },
  {
   "cell_type": "code",
   "execution_count": 53,
   "metadata": {},
   "outputs": [
    {
     "name": "stdout",
     "output_type": "stream",
     "text": [
      "['1235678912']\n"
     ]
    }
   ],
   "source": [
    "matches=re.findall(pattern2,chat1)\n",
    "print(matches)"
   ]
  },
  {
   "cell_type": "code",
   "execution_count": 54,
   "metadata": {},
   "outputs": [
    {
     "name": "stdout",
     "output_type": "stream",
     "text": [
      "['(123)-567-8912']\n"
     ]
    }
   ],
   "source": [
    "matches=re.findall(pattern2,chat2)\n",
    "print(matches)"
   ]
  },
  {
   "cell_type": "code",
   "execution_count": 55,
   "metadata": {},
   "outputs": [
    {
     "name": "stdout",
     "output_type": "stream",
     "text": [
      "['1235678912']\n"
     ]
    }
   ],
   "source": [
    "matches=re.findall(pattern2,chat3)\n",
    "print(matches)"
   ]
  },
  {
   "cell_type": "code",
   "execution_count": 56,
   "metadata": {},
   "outputs": [],
   "source": [
    "pattern3=r\"[a-z0-9A-Z_]*@[a-z0-9A-Z]*\\.[a-zA-Z]*\"\n"
   ]
  },
  {
   "cell_type": "code",
   "execution_count": 57,
   "metadata": {},
   "outputs": [
    {
     "name": "stdout",
     "output_type": "stream",
     "text": [
      "['abc@xyz.com']\n"
     ]
    }
   ],
   "source": [
    "matches=re.findall(pattern3,chat1)\n",
    "print(matches)"
   ]
  },
  {
   "cell_type": "code",
   "execution_count": 58,
   "metadata": {},
   "outputs": [
    {
     "name": "stdout",
     "output_type": "stream",
     "text": [
      "['abc@xyz.com']\n"
     ]
    }
   ],
   "source": [
    "matches=re.findall(pattern3,chat2)\n",
    "print(matches)"
   ]
  },
  {
   "cell_type": "code",
   "execution_count": 59,
   "metadata": {},
   "outputs": [
    {
     "name": "stdout",
     "output_type": "stream",
     "text": [
      "['abc@xyz.com']\n"
     ]
    }
   ],
   "source": [
    "matches=re.findall(pattern3,chat3)\n",
    "print(matches)"
   ]
  },
  {
   "cell_type": "code",
   "execution_count": null,
   "metadata": {},
   "outputs": [],
   "source": []
  }
 ],
 "metadata": {
  "kernelspec": {
   "display_name": "Python 3",
   "language": "python",
   "name": "python3"
  },
  "language_info": {
   "codemirror_mode": {
    "name": "ipython",
    "version": 3
   },
   "file_extension": ".py",
   "mimetype": "text/x-python",
   "name": "python",
   "nbconvert_exporter": "python",
   "pygments_lexer": "ipython3",
   "version": "3.12.0"
  }
 },
 "nbformat": 4,
 "nbformat_minor": 2
}
